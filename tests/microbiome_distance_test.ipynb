{
 "cells": [
  {
   "cell_type": "code",
   "execution_count": 3,
   "id": "d851fc16",
   "metadata": {},
   "outputs": [],
   "source": [
    "import sys\n",
    "import json\n",
    "import pandas as pd\n",
    "\n",
    "sys.path.append('..')\n",
    "import ultrametric_distance"
   ]
  },
  {
   "cell_type": "code",
   "execution_count": 4,
   "id": "a3f7263f",
   "metadata": {},
   "outputs": [],
   "source": [
    "def convert_nodes_to_json_tree(node_list):\n",
    "    \"\"\"\n",
    "    Convert a list of hierarchical node names to JSON tree structure.\n",
    "    \n",
    "    Args:\n",
    "        node_list: List of node names like [\"p__node1\", \"p__node1;c__node2\", ...]\n",
    "    \n",
    "    Returns:\n",
    "        JSON tree structure where keys are full node names and values are children\n",
    "        Leaf nodes have {} as value, non-leaf nodes have dict of children\n",
    "    \"\"\"\n",
    "    \n",
    "    def parse_node_path(node_name):\n",
    "        \"\"\"Parse a node name into its hierarchical path components.\"\"\"\n",
    "        parts = node_name.split(';')\n",
    "        return [part for part in parts if '__' in part]\n",
    "    \n",
    "    # First pass: collect all nodes and determine which are leaves\n",
    "    all_nodes = set()\n",
    "    parent_nodes = set()\n",
    "    \n",
    "    for node_name in node_list:\n",
    "        if node_name.strip():\n",
    "            path = parse_node_path(node_name)\n",
    "            for i, full_name in enumerate(path):\n",
    "                all_nodes.add(full_name)\n",
    "                # If this is not the last node in the path, it's a parent\n",
    "                if i < len(path) - 1:\n",
    "                    parent_nodes.add(full_name)\n",
    "    \n",
    "    # Leaf nodes are those that are never parents\n",
    "    leaf_nodes = all_nodes - parent_nodes\n",
    "    \n",
    "    def add_node_to_tree(tree, path):\n",
    "        \"\"\"Add a node path to the tree structure.\"\"\"\n",
    "        current = tree\n",
    "        \n",
    "        for i, full_name in enumerate(path):\n",
    "            if full_name not in current:\n",
    "                # Check if this node is a leaf\n",
    "                if full_name in leaf_nodes:\n",
    "                    current[full_name] = {}\n",
    "                else:\n",
    "                    current[full_name] = {}\n",
    "            \n",
    "            # Move to the next level if this node can have children\n",
    "            if full_name not in leaf_nodes and i < len(path) - 1:\n",
    "                current = current[full_name]\n",
    "    \n",
    "    # Initialize root tree\n",
    "    tree = {}\n",
    "    \n",
    "    # Process each node\n",
    "    for node_name in node_list:\n",
    "        if node_name.strip():\n",
    "            path = parse_node_path(node_name)\n",
    "            if path:\n",
    "                add_node_to_tree(tree, path)\n",
    "    \n",
    "    return {\"root\": tree}"
   ]
  },
  {
   "cell_type": "code",
   "execution_count": 8,
   "id": "b64654c8",
   "metadata": {},
   "outputs": [
    {
     "name": "stdout",
     "output_type": "stream",
     "text": [
      "\n",
      "Subset of tree:\n",
      "{\n",
      "  \"root\": {\n",
      "    \"p__Firmicutes\": {},\n",
      "    \"p__Bacteroidota\": {\n",
      "      \"c__Bacteroidia\": {\n",
      "        \"o__Bacteroidales\": {\n",
      "          \"f__Muribaculaceae\": {}\n",
      "        }\n",
      "      }\n",
      "    },\n",
      "    \"p__Actinobacteriota\": {\n",
      "      \"c__Actinobacteria\": {\n",
      "        \"o__Bifidobacteriales\": {\n",
      "          \"f__Bifidobacteriaceae\": {\n",
      "            \"g__Bifidobacterium\": {}\n",
      "          }\n",
      "        }\n",
      "      }\n",
      "    }\n",
      "  }\n",
      "}\n"
     ]
    }
   ],
   "source": [
    "taxa_matrix = pd.read_csv(\"../data/do1200_microbiome_taxa.csv\",  index_col='sample_id')\n",
    "sample_nodes = taxa_matrix.columns.to_list()\n",
    "\n",
    "# Convert to JSON tree, keep all nodes\n",
    "tree_all = convert_nodes_to_json_tree(sample_nodes)\n",
    "\n",
    "# Convert to JSON tree, remove nodes with values below threshold\n",
    "tree_subset = convert_nodes_to_json_tree(taxa_matrix.loc[\"DO0561\"].index[taxa_matrix.loc[\"DO0561\"] > 0.2].to_list())\n",
    "\n",
    "print(\"\\nSubset of tree:\")\n",
    "print(json.dumps(tree_subset, indent=2))"
   ]
  },
  {
   "cell_type": "code",
   "execution_count": 9,
   "id": "6e3d1800",
   "metadata": {},
   "outputs": [
    {
     "data": {
      "text/plain": [
       "0.06196510982275294"
      ]
     },
     "execution_count": 9,
     "metadata": {},
     "output_type": "execute_result"
    }
   ],
   "source": [
    "# test tree distance\n",
    "ultrametric_distance.get_ultrametric_distance(tree_subset, tree_subset)"
   ]
  }
 ],
 "metadata": {
  "kernelspec": {
   "display_name": "base",
   "language": "python",
   "name": "python3"
  },
  "language_info": {
   "codemirror_mode": {
    "name": "ipython",
    "version": 3
   },
   "file_extension": ".py",
   "mimetype": "text/x-python",
   "name": "python",
   "nbconvert_exporter": "python",
   "pygments_lexer": "ipython3",
   "version": "3.12.2"
  }
 },
 "nbformat": 4,
 "nbformat_minor": 5
}
