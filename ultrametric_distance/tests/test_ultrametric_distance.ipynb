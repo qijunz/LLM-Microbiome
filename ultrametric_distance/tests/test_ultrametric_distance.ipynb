{
 "cells": [
  {
   "cell_type": "code",
   "execution_count": 18,
   "id": "f8301b27",
   "metadata": {},
   "outputs": [],
   "source": [
    "import json\n",
    "from scipy.cluster.hierarchy import linkage, dendrogram\n",
    "from scipy.spatial.distance import squareform\n",
    "import matplotlib.pyplot as plt\n",
    "from typing import Tuple\n",
    "import sys\n",
    "sys.path.append('..')\n",
    "from ultratrees import *"
   ]
  },
  {
   "cell_type": "code",
   "execution_count": 19,
   "id": "4c6daa80",
   "metadata": {},
   "outputs": [],
   "source": [
    "tree1 = {\n",
    "    \"entity\": {\n",
    "        \"physical_entity\": {\n",
    "            \"object\": {\n",
    "                \"whole\": {\n",
    "                    \"plant\": {\n",
    "                        \"legume\": {\n",
    "                            \"pea1\": {}\n",
    "                        }\n",
    "                    }\n",
    "                }\n",
    "            },\n",
    "            \"food\": {\n",
    "                \"plant_product\": {\n",
    "                    \"vegetable\": {\n",
    "                        \"pea2\": {}\n",
    "                    }\n",
    "                }\n",
    "            }\n",
    "        }\n",
    "    }\n",
    "}"
   ]
  },
  {
   "cell_type": "code",
   "execution_count": 20,
   "id": "cc549d67",
   "metadata": {},
   "outputs": [],
   "source": [
    "tree2 = {\n",
    "    \"entity\": {\n",
    "        \"physical_entity\": {\n",
    "            \"object\": {\n",
    "                \"whole\": {\n",
    "                    \"plant\": {\n",
    "                        \"legume\": {\n",
    "                            \"bean1\": {}\n",
    "                        }\n",
    "                    }\n",
    "                }\n",
    "            },\n",
    "            \"food\": {\n",
    "                \"plant_product\": {\n",
    "                    \"vegetable\": {\n",
    "                        \"bean2\": {}\n",
    "                    }\n",
    "                }\n",
    "            }\n",
    "        }\n",
    "    }\n",
    "}"
   ]
  },
  {
   "cell_type": "code",
   "execution_count": 21,
   "id": "bde0cb6d",
   "metadata": {},
   "outputs": [
    {
     "data": {
      "text/plain": [
       "np.float64(0.06572392402895662)"
      ]
     },
     "execution_count": 21,
     "metadata": {},
     "output_type": "execute_result"
    }
   ],
   "source": [
    "get_ultrametric_distance(tree1, tree2)"
   ]
  }
 ],
 "metadata": {
  "kernelspec": {
   "display_name": "env_trlhf",
   "language": "python",
   "name": "python3"
  },
  "language_info": {
   "codemirror_mode": {
    "name": "ipython",
    "version": 3
   },
   "file_extension": ".py",
   "mimetype": "text/x-python",
   "name": "python",
   "nbconvert_exporter": "python",
   "pygments_lexer": "ipython3",
   "version": "3.11.12"
  }
 },
 "nbformat": 4,
 "nbformat_minor": 5
}
