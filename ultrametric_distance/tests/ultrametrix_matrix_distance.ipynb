{
 "cells": [
  {
   "cell_type": "code",
   "execution_count": 17,
   "id": "9280f300",
   "metadata": {},
   "outputs": [],
   "source": [
    "import json\n",
    "from scipy.cluster.hierarchy import linkage, dendrogram\n",
    "from scipy.spatial.distance import squareform\n",
    "import matplotlib.pyplot as plt\n",
    "from typing import Tuple\n",
    "import sys\n",
    "sys.path.append('..')\n",
    "from ultratrees import *"
   ]
  },
  {
   "cell_type": "code",
   "execution_count": 24,
   "id": "e8a788d0",
   "metadata": {},
   "outputs": [],
   "source": [
    "def build_phylogenetic_tree(\n",
    "    dist_matrix,\n",
    "    title: str = \"\",\n",
    "    method: str = \"average\",\n",
    "    plot: bool = True\n",
    ") -> Tuple[np.ndarray, List[str]]:\n",
    "    \"\"\"\n",
    "    Given an ultrametric distance DataFrame, perform UPGMA\n",
    "    (average linkage) clustering to reconstruct a phylogenetic tree.\n",
    "    Returns the linkage matrix Z and the leaf order. Optionally plots.\n",
    "    \"\"\"\n",
    "    condensed = squareform(dist_matrix)\n",
    "    Z = linkage(condensed, method=method)\n",
    "    if plot:\n",
    "        fig, ax = plt.subplots(figsize=(8, 4))\n",
    "        dendrogram(Z, ax=ax)\n",
    "        ax.set_title(\"Hierarchy Tree for \" + title)\n",
    "        plt.tight_layout()\n",
    "        plt.show()\n",
    "    return Z, dist_matrix"
   ]
  },
  {
   "cell_type": "code",
   "execution_count": 47,
   "id": "8a2e8e3e",
   "metadata": {},
   "outputs": [],
   "source": [
    "input_file1  = \"../../datasets/wordnet/files/wordnet_noun_list_hierarchies.json\"\n",
    "with open(input_file1, \"r\", encoding=\"utf-8\") as f:\n",
    "    # word_hierarchies is a list of dicts\n",
    "    word_hierarchies = json.load(f)"
   ]
  },
  {
   "cell_type": "code",
   "execution_count": null,
   "id": "b2ccb722",
   "metadata": {},
   "outputs": [
    {
     "name": "stdout",
     "output_type": "stream",
     "text": [
      "Tree 1: {'entity': {'abstraction': {'measure': {'definite_quantity': {'number': {'integer': {'digit': {'zero.n.02': {}}}}}}}}}\n",
      "Tree 2: {'entity': {'abstraction': {'measure': {'definite_quantity': {'number': {'integer': {'digit': {'one.n.01': {}}}}}}}}}\n"
     ]
    }
   ],
   "source": [
    "tree1_str = word_hierarchies[0]['hierarchy']\n",
    "tree2_str = word_hierarchies[1]['hierarchy']\n",
    "print(\"Tree 1:\", tree1_str)\n",
    "print(\"Tree 2:\", tree2_str)"
   ]
  },
  {
   "cell_type": "code",
   "execution_count": 51,
   "id": "e7fb75d5",
   "metadata": {},
   "outputs": [
    {
     "name": "stdout",
     "output_type": "stream",
     "text": [
      "tree1 - Leaf paths:\n",
      " {'zero.n.02': ['entity', 'abstraction', 'measure', 'definite_quantity', 'number', 'integer', 'digit', 'zero.n.02']}\n",
      "tree1 - Ultrametric distance matrix:\n",
      " [[0.]]\n"
     ]
    },
    {
     "ename": "ValueError",
     "evalue": "The number of observations cannot be determined on an empty distance matrix.",
     "output_type": "error",
     "traceback": [
      "\u001b[31m---------------------------------------------------------------------------\u001b[39m",
      "\u001b[31mValueError\u001b[39m                                Traceback (most recent call last)",
      "\u001b[36mCell\u001b[39m\u001b[36m \u001b[39m\u001b[32mIn[51]\u001b[39m\u001b[32m, line 10\u001b[39m\n\u001b[32m      7\u001b[39m \u001b[38;5;28mprint\u001b[39m(\u001b[33m\"\u001b[39m\u001b[33mtree1 - Ultrametric distance matrix:\u001b[39m\u001b[38;5;130;01m\\n\u001b[39;00m\u001b[33m\"\u001b[39m, tree1_distance_matrix)\n\u001b[32m      9\u001b[39m \u001b[38;5;66;03m# 3) Build & plot the phylogenetic tree\u001b[39;00m\n\u001b[32m---> \u001b[39m\u001b[32m10\u001b[39m Z, leafs = \u001b[43mbuild_phylogenetic_tree\u001b[49m\u001b[43m(\u001b[49m\u001b[43mtree1_distance_matrix\u001b[49m\u001b[43m,\u001b[49m\u001b[43m \u001b[49m\u001b[33;43m\"\u001b[39;49m\u001b[33;43mtree1\u001b[39;49m\u001b[33;43m\"\u001b[39;49m\u001b[43m)\u001b[49m\n",
      "\u001b[36mCell\u001b[39m\u001b[36m \u001b[39m\u001b[32mIn[24]\u001b[39m\u001b[32m, line 13\u001b[39m, in \u001b[36mbuild_phylogenetic_tree\u001b[39m\u001b[34m(dist_matrix, title, method, plot)\u001b[39m\n\u001b[32m      7\u001b[39m \u001b[38;5;250m\u001b[39m\u001b[33;03m\"\"\"\u001b[39;00m\n\u001b[32m      8\u001b[39m \u001b[33;03mGiven an ultrametric distance DataFrame, perform UPGMA\u001b[39;00m\n\u001b[32m      9\u001b[39m \u001b[33;03m(average linkage) clustering to reconstruct a phylogenetic tree.\u001b[39;00m\n\u001b[32m     10\u001b[39m \u001b[33;03mReturns the linkage matrix Z and the leaf order. Optionally plots.\u001b[39;00m\n\u001b[32m     11\u001b[39m \u001b[33;03m\"\"\"\u001b[39;00m\n\u001b[32m     12\u001b[39m condensed = squareform(dist_matrix)\n\u001b[32m---> \u001b[39m\u001b[32m13\u001b[39m Z = \u001b[43mlinkage\u001b[49m\u001b[43m(\u001b[49m\u001b[43mcondensed\u001b[49m\u001b[43m,\u001b[49m\u001b[43m \u001b[49m\u001b[43mmethod\u001b[49m\u001b[43m=\u001b[49m\u001b[43mmethod\u001b[49m\u001b[43m)\u001b[49m\n\u001b[32m     14\u001b[39m \u001b[38;5;28;01mif\u001b[39;00m plot:\n\u001b[32m     15\u001b[39m     fig, ax = plt.subplots(figsize=(\u001b[32m8\u001b[39m, \u001b[32m4\u001b[39m))\n",
      "\u001b[36mFile \u001b[39m\u001b[32m~/anaconda3/envs/env_trlhf/lib/python3.11/site-packages/scipy/cluster/hierarchy.py:1033\u001b[39m, in \u001b[36mlinkage\u001b[39m\u001b[34m(y, method, metric, optimal_ordering)\u001b[39m\n\u001b[32m   1029\u001b[39m \u001b[38;5;28;01mif\u001b[39;00m \u001b[38;5;129;01mnot\u001b[39;00m xp.all(xp.isfinite(y)):\n\u001b[32m   1030\u001b[39m     \u001b[38;5;28;01mraise\u001b[39;00m \u001b[38;5;167;01mValueError\u001b[39;00m(\u001b[33m\"\u001b[39m\u001b[33mThe condensed distance matrix must contain only \u001b[39m\u001b[33m\"\u001b[39m\n\u001b[32m   1031\u001b[39m                      \u001b[33m\"\u001b[39m\u001b[33mfinite values.\u001b[39m\u001b[33m\"\u001b[39m)\n\u001b[32m-> \u001b[39m\u001b[32m1033\u001b[39m n = \u001b[38;5;28mint\u001b[39m(\u001b[43mdistance\u001b[49m\u001b[43m.\u001b[49m\u001b[43mnum_obs_y\u001b[49m\u001b[43m(\u001b[49m\u001b[43my\u001b[49m\u001b[43m)\u001b[49m)\n\u001b[32m   1034\u001b[39m method_code = _LINKAGE_METHODS[method]\n\u001b[32m   1036\u001b[39m y = np.asarray(y)\n",
      "\u001b[36mFile \u001b[39m\u001b[32m~/anaconda3/envs/env_trlhf/lib/python3.11/site-packages/scipy/spatial/distance.py:2742\u001b[39m, in \u001b[36mnum_obs_y\u001b[39m\u001b[34m(Y)\u001b[39m\n\u001b[32m   2740\u001b[39m k = Y.shape[\u001b[32m0\u001b[39m]\n\u001b[32m   2741\u001b[39m \u001b[38;5;28;01mif\u001b[39;00m k == \u001b[32m0\u001b[39m:\n\u001b[32m-> \u001b[39m\u001b[32m2742\u001b[39m     \u001b[38;5;28;01mraise\u001b[39;00m \u001b[38;5;167;01mValueError\u001b[39;00m(\u001b[33m\"\u001b[39m\u001b[33mThe number of observations cannot be determined on \u001b[39m\u001b[33m\"\u001b[39m\n\u001b[32m   2743\u001b[39m                      \u001b[33m\"\u001b[39m\u001b[33man empty distance matrix.\u001b[39m\u001b[33m\"\u001b[39m)\n\u001b[32m   2744\u001b[39m d = \u001b[38;5;28mint\u001b[39m(np.ceil(np.sqrt(k * \u001b[32m2\u001b[39m)))\n\u001b[32m   2745\u001b[39m \u001b[38;5;28;01mif\u001b[39;00m (d * (d - \u001b[32m1\u001b[39m) / \u001b[32m2\u001b[39m) != k:\n",
      "\u001b[31mValueError\u001b[39m: The number of observations cannot be determined on an empty distance matrix."
     ]
    }
   ],
   "source": [
    "# 1) Extract leaf paths\n",
    "tree1_leaf_paths = extract_leaf_paths(tree1_str)\n",
    "print(\"tree1 - Leaf paths:\\n\", tree1_leaf_paths)\n",
    "\n",
    "# 2) Compute ultrametric distance matrix\n",
    "tree1_distance_matrix = ultrametric_distance_matrix(tree1_leaf_paths)\n",
    "print(\"tree1 - Ultrametric distance matrix:\\n\", tree1_distance_matrix)\n",
    "\n",
    "# 3) Build & plot the phylogenetic tree\n",
    "Z, leafs = build_phylogenetic_tree(tree1_distance_matrix, \"tree1\")"
   ]
  },
  {
   "cell_type": "code",
   "execution_count": null,
   "id": "ad16e15b",
   "metadata": {},
   "outputs": [
    {
     "name": "stdout",
     "output_type": "stream",
     "text": [
      "Ultrametric distance matrix:\n",
      "                 privilege.n.01  abstraction\n",
      "privilege.n.01             0.0          1.0\n",
      "abstraction                1.0          0.0\n"
     ]
    },
    {
     "data": {
      "image/png": "[encoded data removed]",
      "text/plain": [
       "<Figure size 800x400 with 1 Axes>"
      ]
     },
     "metadata": {},
     "output_type": "display_data"
    }
   ],
   "source": [
    "hierarchy_json = \"\"\"{'entity': {'abstraction': {'attribute': {'quality': {'asset': {'advantage': {'privilege.n.01': {}}}}}, 'psychological_feature': {'cognition': {'content': {'idea': {'concept': {'abstraction': {}}}}}}}}}\"\"\"\n",
    "hierarchy_json = hierarchy_json.replace(\"\\'\", \"\\\"\")\n",
    "bean_hierarchy = json.loads(hierarchy_json)\n",
    "# 1) Extract leaf paths for bean\n",
    "leaf_paths_bean = extract_leaf_paths(bean_hierarchy)\n",
    "# 2) Compute ultrametric distance matrix\n",
    "dist_matrix_bean = ultrametric_distance_matrix(leaf_paths_bean)\n",
    "print(\"Ultrametric distance matrix:\\n\", dist_matrix_bean)\n",
    "# 3) Build & plot the phylogenetic tree\n",
    "Z, leafs = build_phylogenetic_tree(dist_matrix_bean, \"bean\")"
   ]
  },
  {
   "cell_type": "code",
   "execution_count": null,
   "id": "f93156e8",
   "metadata": {},
   "outputs": [
    {
     "name": "stdout",
     "output_type": "stream",
     "text": [
      "Ultrametric distance matrix:\n",
      "       pea1  pea2\n",
      "pea1   0.0   1.0\n",
      "pea2   1.0   0.0\n"
     ]
    },
    {
     "data": {
      "image/png": "[encoded data removed]",
      "text/plain": [
       "<Figure size 800x400 with 1 Axes>"
      ]
     },
     "metadata": {},
     "output_type": "display_data"
    },
    {
     "name": "stdout",
     "output_type": "stream",
     "text": [
      "Ultrametric distance matrix:\n",
      "        bean1  bean2\n",
      "bean1    0.0    1.0\n",
      "bean2    1.0    0.0\n"
     ]
    },
    {
     "data": {
      "image/png": "[encoded data removed]",
      "text/plain": [
       "<Figure size 800x400 with 1 Axes>"
      ]
     },
     "metadata": {},
     "output_type": "display_data"
    }
   ],
   "source": [
    "pea_chatgpt_tree = {\n",
    "    \"entity\": {\n",
    "        \"physical_entity\": {\n",
    "            \"object\": {\n",
    "                \"whole\": {\n",
    "                    \"plant\": {\n",
    "                        \"legume\": {\n",
    "                            \"pea1\": {}\n",
    "                        }\n",
    "                    }\n",
    "                }\n",
    "            },\n",
    "            \"food\": {\n",
    "                \"plant_product\": {\n",
    "                    \"vegetable\": {\n",
    "                        \"pea2\": {}\n",
    "                    }\n",
    "                }\n",
    "            }\n",
    "        }\n",
    "    }\n",
    "}\n",
    "bean_chatgpt_tree = {\n",
    "    \"entity\": {\n",
    "        \"physical_entity\": {\n",
    "            \"object\": {\n",
    "                \"whole\": {\n",
    "                    \"plant\": {\n",
    "                        \"legume\": {\n",
    "                            \"bean1\": {}\n",
    "                        }\n",
    "                    }\n",
    "                }\n",
    "            },\n",
    "            \"food\": {\n",
    "                \"plant_product\": {\n",
    "                    \"vegetable\": {\n",
    "                        \"bean2\": {}\n",
    "                    }\n",
    "                }\n",
    "            }\n",
    "        }\n",
    "    }\n",
    "}\n",
    "\n",
    "leaf_paths_pea_chatgpt = extract_leaf_paths(pea_chatgpt_tree)\n",
    "dist_matrix_pea_chatgpt = ultrametric_distance_matrix(leaf_paths_pea_chatgpt)\n",
    "print(\"Ultrametric distance matrix:\\n\", dist_matrix_pea_chatgpt)\n",
    "Z, leafs = build_phylogenetic_tree(dist_matrix_pea_chatgpt, \"pea\")\n",
    "\n",
    "leaf_paths_bean_chatgpt = extract_leaf_paths(bean_chatgpt_tree)\n",
    "dist_matrix_bean_chatgpt = ultrametric_distance_matrix(leaf_paths_bean_chatgpt)\n",
    "print(\"Ultrametric distance matrix:\\n\", dist_matrix_bean_chatgpt)\n",
    "Z, leafs = build_phylogenetic_tree(dist_matrix_bean_chatgpt, \"bean\")"
   ]
  }
 ],
 "metadata": {
  "kernelspec": {
   "display_name": "env_trlhf",
   "language": "python",
   "name": "python3"
  },
  "language_info": {
   "codemirror_mode": {
    "name": "ipython",
    "version": 3
   },
   "file_extension": ".py",
   "mimetype": "text/x-python",
   "name": "python",
   "nbconvert_exporter": "python",
   "pygments_lexer": "ipython3",
   "version": "3.11.12"
  }
 },
 "nbformat": 4,
 "nbformat_minor": 5
}
